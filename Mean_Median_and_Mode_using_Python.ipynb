{
  "nbformat": 4,
  "nbformat_minor": 0,
  "metadata": {
    "colab": {
      "name": "Mean Median and Mode using Python.ipynb",
      "provenance": []
    },
    "kernelspec": {
      "name": "python3",
      "display_name": "Python 3"
    },
    "language_info": {
      "name": "python"
    }
  },
  "cells": [
    {
      "cell_type": "markdown",
      "source": [
        "#Mean Median and Mode using Python"
      ],
      "metadata": {
        "id": "NiCmvtz7KRoi"
      }
    },
    {
      "cell_type": "markdown",
      "source": [
        "#Mean\n",
        "The mean is the average value of all the values in a dataset. To calculate the mean value of a dataset, we first need to find the sum of all the values and then divide the sum of all the values by the total number of values. So here’s how to calculate the mean using Python:"
      ],
      "metadata": {
        "id": "ETr73nwvKdya"
      }
    },
    {
      "cell_type": "code",
      "source": [
        "# Mean\n",
        "list1 = [12, 16, 20, 20, 12, 30, 25, 23, 24, 20]\n",
        "mean = sum(list1)/len(list1)\n",
        "print(mean)"
      ],
      "metadata": {
        "colab": {
          "base_uri": "https://localhost:8080/"
        },
        "id": "qmHE1J2TJq2O",
        "outputId": "17325b59-3a40-4d87-d6fc-6c42feb0a2a9"
      },
      "execution_count": 4,
      "outputs": [
        {
          "output_type": "stream",
          "name": "stdout",
          "text": [
            "20.2\n"
          ]
        }
      ]
    },
    {
      "cell_type": "markdown",
      "source": [
        "#Median\n",
        "The Median is the middle value among all the values in sorted order. Here we need to calculate the mid-value of all the values in a dataset. But before calculating the Median, we need to arrange all the values in sorted order. There are two different ways of calculating the median value:\n",
        "\n",
        "when the total number of values is even: Median  = [(n/2)th term + {(n/2)+1}th]/2\n",
        "when the total number of values is odd: Median = {(n+1)/2}thterm"
      ],
      "metadata": {
        "id": "aJBKLJpgKksX"
      }
    },
    {
      "cell_type": "code",
      "execution_count": 5,
      "metadata": {
        "colab": {
          "base_uri": "https://localhost:8080/"
        },
        "id": "CaGSakk9JjvB",
        "outputId": "a75b8685-2f08-442f-e072-cca5e6bec669"
      },
      "outputs": [
        {
          "output_type": "stream",
          "name": "stdout",
          "text": [
            "20.0\n"
          ]
        }
      ],
      "source": [
        "# Median\n",
        "list1 = [12, 16, 20, 20, 12, 30, 25, 23, 24, 20]\n",
        "list1.sort()\n",
        "\n",
        "if len(list1) % 2 == 0:\n",
        "    m1 = list1[len(list1)//2]\n",
        "    m2 = list1[len(list1)//2 - 1]\n",
        "    median = (m1 + m2)/2\n",
        "else:\n",
        "    median = list1[len(list1)//2]\n",
        "print(median)"
      ]
    },
    {
      "cell_type": "markdown",
      "source": [
        "#Mode\n",
        "Mode is the most frequently occurring value among all the values. Below is how we can calculate the mode value of a dataset using Python:\n"
      ],
      "metadata": {
        "id": "vYP6LYZNKxN3"
      }
    },
    {
      "cell_type": "code",
      "source": [
        "# Mode\n",
        "list1 = [12, 16, 20, 20, 12, 30, 25, 23, 24, 20]\n",
        "frequency = {}\n",
        "for i in list1:\n",
        "    frequency.setdefault(i, 0)\n",
        "    frequency[i]+=1\n",
        "\n",
        "frequent = max(frequency.values())\n",
        "for i, j in frequency.items():\n",
        "    if j == frequent:\n",
        "        mode = i\n",
        "print(mode)"
      ],
      "metadata": {
        "colab": {
          "base_uri": "https://localhost:8080/"
        },
        "id": "gA7H-IJLK4OU",
        "outputId": "1dd982be-aadc-4f8c-cbbd-5bac31ff3737"
      },
      "execution_count": 6,
      "outputs": [
        {
          "output_type": "stream",
          "name": "stdout",
          "text": [
            "20\n"
          ]
        }
      ]
    }
  ]
}