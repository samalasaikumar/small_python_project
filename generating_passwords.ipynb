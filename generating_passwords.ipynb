{
  "nbformat": 4,
  "nbformat_minor": 0,
  "metadata": {
    "colab": {
      "name": "generating passwords.ipynb",
      "provenance": []
    },
    "kernelspec": {
      "name": "python3",
      "display_name": "Python 3"
    },
    "language_info": {
      "name": "python"
    }
  },
  "cells": [
    {
      "cell_type": "code",
      "execution_count": 1,
      "metadata": {
        "colab": {
          "base_uri": "https://localhost:8080/"
        },
        "id": "ube0ZquPHjBd",
        "outputId": "b175e61b-6a03-4413-8aa1-2dddb8dd63b0"
      },
      "outputs": [
        {
          "output_type": "stream",
          "name": "stdout",
          "text": [
            "enter the length of password8\n",
            "AnN8gWmH\n"
          ]
        }
      ],
      "source": [
        "import random\n",
        "passlen = int(input(\"enter the length of password\"))\n",
        "s=\"abcdefghijklmnopqrstuvwxyz01234567890ABCDEFGHIJKLMNOPQRSTUVWXYZ!@#$%^&*()?\"\n",
        "p = \"\".join(random.sample(s,passlen ))\n",
        "print(p)"
      ]
    }
  ]
}