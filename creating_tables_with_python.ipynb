{
  "nbformat": 4,
  "nbformat_minor": 0,
  "metadata": {
    "colab": {
      "name": "creating tables with python.ipynb",
      "provenance": [],
      "collapsed_sections": []
    },
    "kernelspec": {
      "name": "python3",
      "display_name": "Python 3"
    },
    "language_info": {
      "name": "python"
    }
  },
  "cells": [
    {
      "cell_type": "code",
      "execution_count": 1,
      "metadata": {
        "colab": {
          "base_uri": "https://localhost:8080/"
        },
        "id": "wSvcGk_OJFQB",
        "outputId": "cc663bfd-0a6b-4bd9-8cc5-3cad149ecf09"
      },
      "outputs": [
        {
          "output_type": "stream",
          "name": "stdout",
          "text": [
            "-------  ---------  ------\n",
            "Name     Place      Gender\n",
            "Aman     New Delhi  Male\n",
            "Hritika  New Delhi  Female\n",
            "Krishna  UP         Male\n",
            "-------  ---------  ------\n"
          ]
        }
      ],
      "source": [
        "from tabulate import tabulate\n",
        "data = [[\"Name\", \"Place\", \"Gender\"], [\"Aman\", \"New Delhi\", \"Male\"], [\"Hritika\", \"New Delhi\", \"Female\"], [\"Krishna\", \"UP\", \"Male\"]]\n",
        "print(tabulate(data))"
      ]
    }
  ]
}