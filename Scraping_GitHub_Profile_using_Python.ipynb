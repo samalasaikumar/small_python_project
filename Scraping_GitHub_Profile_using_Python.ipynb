{
  "nbformat": 4,
  "nbformat_minor": 0,
  "metadata": {
    "colab": {
      "name": "Scraping GitHub Profile using Python.ipynb",
      "provenance": []
    },
    "kernelspec": {
      "name": "python3",
      "display_name": "Python 3"
    },
    "language_info": {
      "name": "python"
    }
  },
  "cells": [
    {
      "cell_type": "markdown",
      "source": [
        "#Scraping GitHub Profile using Python\n",
        "When we open any GitHub account, we see a profile picture, the name of the user, and a short description of the user in the profile section. Here you will learn how to scrape your GitHub profile image. For this task, you need some knowledge of HTML and the requests and BeautifulSoup libraries in Python.\n",
        "\n",
        "If you have never used the BeautifulSoup library before, use the command mentioned below in your command prompt or terminal to install this library in your Python virtual environment:\n",
        "\n",
        "pip install beautifulsoup4\n",
        "You don’t need to install the requests library as it is already present in the Python standard library. Now below is how to write a Python program to scrape a profile image from any GitHub profile:"
      ],
      "metadata": {
        "id": "Ww8y_TzJLZ1m"
      }
    },
    {
      "cell_type": "code",
      "execution_count": 1,
      "metadata": {
        "colab": {
          "base_uri": "https://localhost:8080/"
        },
        "id": "2OvUfou6LO6K",
        "outputId": "9004ff32-f334-4816-b65d-a30d906db83c"
      },
      "outputs": [
        {
          "output_type": "stream",
          "name": "stdout",
          "text": [
            "https://avatars.githubusercontent.com/u/57987909?v=4\n"
          ]
        }
      ],
      "source": [
        "import requests\n",
        "from bs4 import BeautifulSoup as bs\n",
        "\n",
        "github_profile = \"https://github.com/amankharwal\"\n",
        "req = requests.get(github_profile)\n",
        "scraper = bs(req.content, \"html.parser\")\n",
        "profile_picture = scraper.find(\"img\", {\"alt\": \"Avatar\"})[\"src\"]\n",
        "print(profile_picture)"
      ]
    }
  ]
}