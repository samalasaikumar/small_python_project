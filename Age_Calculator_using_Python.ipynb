{
  "nbformat": 4,
  "nbformat_minor": 0,
  "metadata": {
    "colab": {
      "name": " Age Calculator using Python.ipynb",
      "provenance": []
    },
    "kernelspec": {
      "name": "python3",
      "display_name": "Python 3"
    },
    "language_info": {
      "name": "python"
    }
  },
  "cells": [
    {
      "cell_type": "markdown",
      "source": [
        "#Age Calculator using Python\n",
        "Age Calculator is an amazing application to create as a beginner in any programming language. To create an age calculator, you need two dates:\n",
        "\n",
        "today’s date\n",
        "date of birth\n",
        "You can either ask the user for both dates or just ask for the date of birth and use today’s date from the computer itself. Asking for the birthday only seems like a more user-friendly option. So here’s how to create an age calculator using Python:"
      ],
      "metadata": {
        "id": "OWc4iZwxLuB-"
      }
    },
    {
      "cell_type": "code",
      "execution_count": 1,
      "metadata": {
        "colab": {
          "base_uri": "https://localhost:8080/"
        },
        "id": "YusRxXDJLs1l",
        "outputId": "911fa82d-bbe9-4a92-b3be-5f61c3369348"
      },
      "outputs": [
        {
          "output_type": "stream",
          "name": "stdout",
          "text": [
            "22\n"
          ]
        }
      ],
      "source": [
        "def ageCalculator(y, m, d):\n",
        "    import datetime\n",
        "    today = datetime.datetime.now().date()\n",
        "    dob = datetime.date(y, m, d)\n",
        "    age = int((today-dob).days / 365.25)\n",
        "    print(age)\n",
        "ageCalculator(2000, 6, 12)"
      ]
    }
  ]
}