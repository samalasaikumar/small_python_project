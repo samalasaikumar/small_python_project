{
  "nbformat": 4,
  "nbformat_minor": 0,
  "metadata": {
    "colab": {
      "name": "saikumar pyspark project.ipynb",
      "provenance": [],
      "collapsed_sections": []
    },
    "kernelspec": {
      "name": "python3",
      "display_name": "Python 3"
    },
    "language_info": {
      "name": "python"
    }
  },
  "cells": [
    {
      "cell_type": "code",
      "source": [
        "pip install pyspark"
      ],
      "metadata": {
        "colab": {
          "base_uri": "https://localhost:8080/"
        },
        "id": "fGgYWod9z3ih",
        "outputId": "cc031442-5c1e-4b5d-da16-657083ac6eda"
      },
      "execution_count": 3,
      "outputs": [
        {
          "output_type": "stream",
          "name": "stdout",
          "text": [
            "Looking in indexes: https://pypi.org/simple, https://us-python.pkg.dev/colab-wheels/public/simple/\n",
            "Collecting pyspark\n",
            "  Downloading pyspark-3.2.1.tar.gz (281.4 MB)\n",
            "\u001b[K     |████████████████████████████████| 281.4 MB 33 kB/s \n",
            "\u001b[?25hCollecting py4j==0.10.9.3\n",
            "  Downloading py4j-0.10.9.3-py2.py3-none-any.whl (198 kB)\n",
            "\u001b[K     |████████████████████████████████| 198 kB 47.6 MB/s \n",
            "\u001b[?25hBuilding wheels for collected packages: pyspark\n",
            "  Building wheel for pyspark (setup.py) ... \u001b[?25l\u001b[?25hdone\n",
            "  Created wheel for pyspark: filename=pyspark-3.2.1-py2.py3-none-any.whl size=281853642 sha256=1bb9cb52db92af46733f4b763cd28fd04ccd4252c4311514949bc94cf29968d2\n",
            "  Stored in directory: /root/.cache/pip/wheels/9f/f5/07/7cd8017084dce4e93e84e92efd1e1d5334db05f2e83bcef74f\n",
            "Successfully built pyspark\n",
            "Installing collected packages: py4j, pyspark\n",
            "Successfully installed py4j-0.10.9.3 pyspark-3.2.1\n"
          ]
        }
      ]
    },
    {
      "cell_type": "markdown",
      "source": [
        "# 1.) Show a sample of 5 records from dataset.\n",
        "Read the csv File using pyspark dataFrame and please give 5 record please use limit for that"
      ],
      "metadata": {
        "id": "5gQOI3dwRqoa"
      }
    },
    {
      "cell_type": "code",
      "source": [
        "#Initializing PySpark\n",
        "from pyspark import SparkContext, SparkConf\n",
        "from pyspark.sql import SparkSession\n",
        "from pyspark.sql import SQLContext\n",
        "# #Spark Config\n",
        "conf = SparkConf().setAppName(\"sample_app\")\n",
        "sc = SparkContext(conf=conf)\n",
        "spark = SparkSession.builder.appName('Test').getOrCreate()\n",
        "sqlContext = SQLContext(sc)"
      ],
      "metadata": {
        "colab": {
          "base_uri": "https://localhost:8080/"
        },
        "id": "Ve3r8jTZ0xln",
        "outputId": "0a5854cf-c892-4419-d903-ffa432ae5522"
      },
      "execution_count": 4,
      "outputs": [
        {
          "output_type": "stream",
          "name": "stderr",
          "text": [
            "/usr/local/lib/python3.7/dist-packages/pyspark/sql/context.py:79: FutureWarning: Deprecated in 3.0.0. Use SparkSession.builder.getOrCreate() instead.\n",
            "  FutureWarning\n"
          ]
        }
      ]
    },
    {
      "cell_type": "code",
      "source": [
        "df = spark.read.format(\"csv\").option(\"header\", \"true\").option(\"inferSchema\",\"true\").load(\"/content/Airline_data.csv\").limit(5)\n",
        "df.show()"
      ],
      "metadata": {
        "id": "55N5nsn8TuMW",
        "colab": {
          "base_uri": "https://localhost:8080/"
        },
        "outputId": "5672e21d-20e0-4260-d2f1-c97d35bcb3cf"
      },
      "execution_count": 5,
      "outputs": [
        {
          "output_type": "stream",
          "name": "stdout",
          "text": [
            "+----+-----+----------+---------+-------+----------+-------+----------+-------------+---------+-------+-----------------+--------------+-------+--------+--------+------+----+--------+------+-------+---------+----------------+--------+------------+------------+--------+-------------+-----------------+\n",
            "|Year|Month|DayofMonth|DayOfWeek|DepTime|CRSDepTime|ArrTime|CRSArrTime|UniqueCarrier|FlightNum|TailNum|ActualElapsedTime|CRSElapsedTime|AirTime|ArrDelay|DepDelay|Origin|Dest|Distance|TaxiIn|TaxiOut|Cancelled|CancellationCode|Diverted|CarrierDelay|WeatherDelay|NASDelay|SecurityDelay|LateAircraftDelay|\n",
            "+----+-----+----------+---------+-------+----------+-------+----------+-------------+---------+-------+-----------------+--------------+-------+--------+--------+------+----+--------+------+-------+---------+----------------+--------+------------+------------+--------+-------------+-----------------+\n",
            "|1989|    1|        23|        1|   1419|      1230|   1742|      1552|           UA|      183|     NA|              323|           322|     NA|     110|     109|   SFO| HNL|    2398|    NA|     NA|        0|              NA|       0|          NA|          NA|      NA|           NA|               NA|\n",
            "|1989|    1|        24|        2|   1255|      1230|   1612|      1552|           UA|      183|     NA|              317|           322|     NA|      20|      25|   SFO| HNL|    2398|    NA|     NA|        0|              NA|       0|          NA|          NA|      NA|           NA|               NA|\n",
            "|1989|    1|        25|        3|   1230|      1230|   1533|      1552|           UA|      183|     NA|              303|           322|     NA|     -19|       0|   SFO| HNL|    2398|    NA|     NA|        0|              NA|       0|          NA|          NA|      NA|           NA|               NA|\n",
            "|1989|    1|        26|        4|   1230|      1230|   1523|      1552|           UA|      183|     NA|              293|           322|     NA|     -29|       0|   SFO| HNL|    2398|    NA|     NA|        0|              NA|       0|          NA|          NA|      NA|           NA|               NA|\n",
            "|1989|    1|        27|        5|   1232|      1230|   1513|      1552|           UA|      183|     NA|              281|           322|     NA|     -39|       2|   SFO| HNL|    2398|    NA|     NA|        0|              NA|       0|          NA|          NA|      NA|           NA|               NA|\n",
            "+----+-----+----------+---------+-------+----------+-------+----------+-------------+---------+-------+-----------------+--------------+-------+--------+--------+------+----+--------+------+-------+---------+----------------+--------+------------+------------+--------+-------------+-----------------+\n",
            "\n"
          ]
        }
      ]
    },
    {
      "cell_type": "markdown",
      "source": [
        " # 2.) Read the data with data types.\n",
        " when you reading it please use proper syntax For Genrating The Schema"
      ],
      "metadata": {
        "id": "cYQw9HbRRzKC"
      }
    },
    {
      "cell_type": "code",
      "source": [
        "df.dtypes"
      ],
      "metadata": {
        "id": "GesMzFp2Tu4v",
        "colab": {
          "base_uri": "https://localhost:8080/"
        },
        "outputId": "b5fb9653-4c89-436a-c231-ad6d6ca17c60"
      },
      "execution_count": 6,
      "outputs": [
        {
          "output_type": "execute_result",
          "data": {
            "text/plain": [
              "[('Year', 'int'),\n",
              " ('Month', 'int'),\n",
              " ('DayofMonth', 'int'),\n",
              " ('DayOfWeek', 'int'),\n",
              " ('DepTime', 'int'),\n",
              " ('CRSDepTime', 'int'),\n",
              " ('ArrTime', 'int'),\n",
              " ('CRSArrTime', 'int'),\n",
              " ('UniqueCarrier', 'string'),\n",
              " ('FlightNum', 'int'),\n",
              " ('TailNum', 'string'),\n",
              " ('ActualElapsedTime', 'int'),\n",
              " ('CRSElapsedTime', 'int'),\n",
              " ('AirTime', 'string'),\n",
              " ('ArrDelay', 'int'),\n",
              " ('DepDelay', 'int'),\n",
              " ('Origin', 'string'),\n",
              " ('Dest', 'string'),\n",
              " ('Distance', 'int'),\n",
              " ('TaxiIn', 'string'),\n",
              " ('TaxiOut', 'string'),\n",
              " ('Cancelled', 'int'),\n",
              " ('CancellationCode', 'string'),\n",
              " ('Diverted', 'int'),\n",
              " ('CarrierDelay', 'string'),\n",
              " ('WeatherDelay', 'string'),\n",
              " ('NASDelay', 'string'),\n",
              " ('SecurityDelay', 'string'),\n",
              " ('LateAircraftDelay', 'string')]"
            ]
          },
          "metadata": {},
          "execution_count": 6
        }
      ]
    },
    {
      "cell_type": "code",
      "source": [
        "df.printSchema()"
      ],
      "metadata": {
        "colab": {
          "base_uri": "https://localhost:8080/"
        },
        "id": "zeO4ZIu41gAJ",
        "outputId": "136839fa-d9f5-4f46-9ddd-535ad727ba0b"
      },
      "execution_count": 7,
      "outputs": [
        {
          "output_type": "stream",
          "name": "stdout",
          "text": [
            "root\n",
            " |-- Year: integer (nullable = true)\n",
            " |-- Month: integer (nullable = true)\n",
            " |-- DayofMonth: integer (nullable = true)\n",
            " |-- DayOfWeek: integer (nullable = true)\n",
            " |-- DepTime: integer (nullable = true)\n",
            " |-- CRSDepTime: integer (nullable = true)\n",
            " |-- ArrTime: integer (nullable = true)\n",
            " |-- CRSArrTime: integer (nullable = true)\n",
            " |-- UniqueCarrier: string (nullable = true)\n",
            " |-- FlightNum: integer (nullable = true)\n",
            " |-- TailNum: string (nullable = true)\n",
            " |-- ActualElapsedTime: integer (nullable = true)\n",
            " |-- CRSElapsedTime: integer (nullable = true)\n",
            " |-- AirTime: string (nullable = true)\n",
            " |-- ArrDelay: integer (nullable = true)\n",
            " |-- DepDelay: integer (nullable = true)\n",
            " |-- Origin: string (nullable = true)\n",
            " |-- Dest: string (nullable = true)\n",
            " |-- Distance: integer (nullable = true)\n",
            " |-- TaxiIn: string (nullable = true)\n",
            " |-- TaxiOut: string (nullable = true)\n",
            " |-- Cancelled: integer (nullable = true)\n",
            " |-- CancellationCode: string (nullable = true)\n",
            " |-- Diverted: integer (nullable = true)\n",
            " |-- CarrierDelay: string (nullable = true)\n",
            " |-- WeatherDelay: string (nullable = true)\n",
            " |-- NASDelay: string (nullable = true)\n",
            " |-- SecurityDelay: string (nullable = true)\n",
            " |-- LateAircraftDelay: string (nullable = true)\n",
            "\n"
          ]
        }
      ]
    },
    {
      "cell_type": "markdown",
      "source": [
        "# 3.) Make a new column MonthStr, Which has months in form of 01, 02, 03, ..., 12.\n",
        "please use udf , and ur udf should be very simple and straight forward\n",
        "\n",
        "ur udf input will be Month Column and the new Column u have to return as name \"MonthStr\"\n",
        "\n",
        "which will have the data in the form of 01, 02, 03, ..., 12\n"
      ],
      "metadata": {
        "id": "Ef7Bf_r1R_FX"
      }
    },
    {
      "cell_type": "code",
      "source": [
        "def get_month(res1):\n",
        "  for i in range(1,13,):\n",
        "   return ('%0.2d' % i)\n",
        "ans1 = get_month(1)\n",
        "print(ans1)"
      ],
      "metadata": {
        "id": "R9p_5i9KFMSo",
        "colab": {
          "base_uri": "https://localhost:8080/"
        },
        "outputId": "83dca326-9ed3-4715-ecfb-857655eb2656"
      },
      "execution_count": 73,
      "outputs": [
        {
          "output_type": "stream",
          "name": "stdout",
          "text": [
            "01\n"
          ]
        }
      ]
    },
    {
      "cell_type": "code",
      "source": [
        "from pyspark.sql.functions import udf,col\n",
        "a = udf(get_month)\n",
        "df1 = df.withColumn(\"MonthStr\",a(col(\"Month\")))\n",
        "df1.show()"
      ],
      "metadata": {
        "id": "o3_XtGmdTvdL",
        "colab": {
          "base_uri": "https://localhost:8080/"
        },
        "outputId": "174096ed-d109-43ad-9fc9-a958f4b6f3e1"
      },
      "execution_count": 72,
      "outputs": [
        {
          "output_type": "stream",
          "name": "stdout",
          "text": [
            "+----+-----+----------+---------+-------+----------+-------+----------+-------------+---------+-------+-----------------+--------------+-------+--------+--------+------+----+--------+------+-------+---------+----------------+--------+------------+------------+--------+-------------+-----------------+--------+\n",
            "|Year|Month|DayofMonth|DayOfWeek|DepTime|CRSDepTime|ArrTime|CRSArrTime|UniqueCarrier|FlightNum|TailNum|ActualElapsedTime|CRSElapsedTime|AirTime|ArrDelay|DepDelay|Origin|Dest|Distance|TaxiIn|TaxiOut|Cancelled|CancellationCode|Diverted|CarrierDelay|WeatherDelay|NASDelay|SecurityDelay|LateAircraftDelay|MonthStr|\n",
            "+----+-----+----------+---------+-------+----------+-------+----------+-------------+---------+-------+-----------------+--------------+-------+--------+--------+------+----+--------+------+-------+---------+----------------+--------+------------+------------+--------+-------------+-----------------+--------+\n",
            "|1989|    1|        23|        1|   1419|      1230|   1742|      1552|           UA|      183|     NA|              323|           322|     NA|     110|     109|   SFO| HNL|    2398|    NA|     NA|        0|              NA|       0|          NA|          NA|      NA|           NA|               NA|      01|\n",
            "|1989|    1|        24|        2|   1255|      1230|   1612|      1552|           UA|      183|     NA|              317|           322|     NA|      20|      25|   SFO| HNL|    2398|    NA|     NA|        0|              NA|       0|          NA|          NA|      NA|           NA|               NA|      01|\n",
            "|1989|    1|        25|        3|   1230|      1230|   1533|      1552|           UA|      183|     NA|              303|           322|     NA|     -19|       0|   SFO| HNL|    2398|    NA|     NA|        0|              NA|       0|          NA|          NA|      NA|           NA|               NA|      01|\n",
            "|1989|    1|        26|        4|   1230|      1230|   1523|      1552|           UA|      183|     NA|              293|           322|     NA|     -29|       0|   SFO| HNL|    2398|    NA|     NA|        0|              NA|       0|          NA|          NA|      NA|           NA|               NA|      01|\n",
            "|1989|    1|        27|        5|   1232|      1230|   1513|      1552|           UA|      183|     NA|              281|           322|     NA|     -39|       2|   SFO| HNL|    2398|    NA|     NA|        0|              NA|       0|          NA|          NA|      NA|           NA|               NA|      01|\n",
            "+----+-----+----------+---------+-------+----------+-------+----------+-------------+---------+-------+-----------------+--------------+-------+--------+--------+------+----+--------+------+-------+---------+----------------+--------+------------+------------+--------+-------------+-----------------+--------+\n",
            "\n"
          ]
        }
      ]
    },
    {
      "cell_type": "markdown",
      "source": [
        "# 4.) Find the # of flights each airline made. :=> UniqueCarrier\n",
        "\n",
        "here u have to select \"UniqueCarrier\" column and get the distinct UniqueCarriername and please print the Count as well"
      ],
      "metadata": {
        "id": "-XpwWS-3SlSk"
      }
    },
    {
      "cell_type": "code",
      "source": [
        "from pyspark.sql.functions import countDistinct\n",
        "df1 = df.groupBy(\"UniqueCarrier\").agg(countDistinct(\"UniqueCarrier\"))\n",
        "df1.show()"
      ],
      "metadata": {
        "id": "LlNyGfv4TwAV",
        "colab": {
          "base_uri": "https://localhost:8080/"
        },
        "outputId": "ab315114-2c58-4619-8c2e-8fa45bd134b4"
      },
      "execution_count": 27,
      "outputs": [
        {
          "output_type": "stream",
          "name": "stdout",
          "text": [
            "+-------------+--------------------+\n",
            "|UniqueCarrier|count(UniqueCarrier)|\n",
            "+-------------+--------------------+\n",
            "|           UA|                   1|\n",
            "+-------------+--------------------+\n",
            "\n"
          ]
        }
      ]
    },
    {
      "cell_type": "markdown",
      "source": [
        "# 5.) Find the mean Arrival Delay per origination airport. :=> group by orign and avg by arrival delay\n",
        "\n",
        "here u have do a group by based upon \"Origin\" Column and then do the avg for \"ArrDelay\""
      ],
      "metadata": {
        "id": "ufRafh9gS5yD"
      }
    },
    {
      "cell_type": "code",
      "source": [
        "df1 = df.groupBy(\"Origin\").agg({'ArrDelay' : 'mean'})\n",
        "df1.show()"
      ],
      "metadata": {
        "id": "VMWZDC6MTwzT",
        "colab": {
          "base_uri": "https://localhost:8080/"
        },
        "outputId": "a8a129b8-2f85-481e-9f56-4ee6aa2d7bdf"
      },
      "execution_count": 19,
      "outputs": [
        {
          "output_type": "stream",
          "name": "stdout",
          "text": [
            "+------+-------------+\n",
            "|Origin|avg(ArrDelay)|\n",
            "+------+-------------+\n",
            "|   SFO|          8.6|\n",
            "+------+-------------+\n",
            "\n"
          ]
        }
      ]
    },
    {
      "cell_type": "markdown",
      "source": [
        "# 6.) What is the average departure delay from each airport? :=> group by orign and avg by departure delay\n",
        "\n",
        "here u have do a group by based upon \"Origin\" Column and then do the avg for \"DepDelay\""
      ],
      "metadata": {
        "id": "5nYMRElbTUER"
      }
    },
    {
      "cell_type": "code",
      "source": [
        "df2 = df.groupBy(\"Origin\").agg({'DepDelay' : 'mean'})\n",
        "df2.show()"
      ],
      "metadata": {
        "id": "iiEizLkQTxPd",
        "colab": {
          "base_uri": "https://localhost:8080/"
        },
        "outputId": "cc7c0610-1aed-4cd3-e2a7-aa78a9c744a8"
      },
      "execution_count": 18,
      "outputs": [
        {
          "output_type": "stream",
          "name": "stdout",
          "text": [
            "+------+-------------+\n",
            "|Origin|avg(DepDelay)|\n",
            "+------+-------------+\n",
            "|   SFO|         27.2|\n",
            "+------+-------------+\n",
            "\n"
          ]
        }
      ]
    }
  ]
}